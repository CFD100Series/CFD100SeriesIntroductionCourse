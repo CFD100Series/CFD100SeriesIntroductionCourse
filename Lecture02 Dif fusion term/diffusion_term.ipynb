{
 "cells": [
  {
   "cell_type": "markdown",
   "id": "05a440cf-bd7e-4d3c-875b-cbf62dec89f7",
   "metadata": {},
   "source": [
    "### 控制方程\n",
    "$$\n",
    "\\frac{\\partial^2 T}{\\partial x^2} = \\frac{hP}{\\lambda A_c}(T-T_{\\infty})=H(T-T_{\\infty})\n",
    "$$\n",
    "\n",
    "### 构建离散方程"
   ]
  },
  {
   "cell_type": "code",
   "execution_count": 1,
   "id": "e774e0dc-1422-4bb3-b94b-d755e85b59f2",
   "metadata": {},
   "outputs": [],
   "source": [
    "import numpy as np\n",
    "import matplotlib.pyplot as plt"
   ]
  },
  {
   "cell_type": "code",
   "execution_count": 10,
   "id": "c9682e43-2813-4efb-97c2-67e3c0b00eaf",
   "metadata": {},
   "outputs": [],
   "source": [
    "L = 1\n",
    "n = 6\n",
    "x = np.linspace(0, L, n)\n",
    "dx = x[1] - x[0]\n",
    "\n",
    "H = 0.1\n",
    "Tleft = 200\n",
    "Tright = 300\n",
    "Tinf = 500"
   ]
  },
  {
   "cell_type": "code",
   "execution_count": 19,
   "id": "85b7fb1b-0702-4bf0-a2ea-808b0809d0c9",
   "metadata": {},
   "outputs": [
    {
     "name": "stdout",
     "output_type": "stream",
     "text": [
      "[[ 1.     0.     0.     0.     0.     0.   ]\n",
      " [ 1.    -2.004  1.     0.     0.     0.   ]\n",
      " [ 0.     1.    -2.004  1.     0.     0.   ]\n",
      " [ 0.     0.     1.    -2.004  1.     0.   ]\n",
      " [ 0.     0.     0.     1.    -2.004  1.   ]\n",
      " [ 0.     0.     0.     0.     0.     1.   ]]\n"
     ]
    }
   ],
   "source": [
    "# np.ones()\n",
    "ud = np.ones(n-1)\n",
    "ud[0] = 0\n",
    "\n",
    "ld = np.ones(n-1)\n",
    "ld[-1] = 0\n",
    "\n",
    "md = np.ones(n) * (-(2 + H*dx*dx))\n",
    "md[0] = md[-1] = 1\n",
    "\n",
    "# diag()\n",
    "A = np.diag(md, 0) + np.diag(ud, 1) + np.diag(ld, -1)"
   ]
  },
  {
   "cell_type": "code",
   "execution_count": 21,
   "id": "4a9995a5-a17d-46f6-a6f6-9a75b4dfbd63",
   "metadata": {},
   "outputs": [
    {
     "name": "stdout",
     "output_type": "stream",
     "text": [
      "[200.  -2.  -2.  -2.  -2. 300.]\n"
     ]
    }
   ],
   "source": [
    "source = -H*dx*dx*Tinf*np.ones(n)\n",
    "source[0] = 200\n",
    "source[-1] = 300\n",
    "print(source)"
   ]
  },
  {
   "cell_type": "code",
   "execution_count": 22,
   "id": "042ca655-86ad-400f-88d2-c7109a3a9b86",
   "metadata": {},
   "outputs": [],
   "source": [
    "sol = np.linalg.solve(A, source)"
   ]
  },
  {
   "cell_type": "code",
   "execution_count": 23,
   "id": "004a40cc-5532-4217-8f9c-1ad3bdcde0fd",
   "metadata": {},
   "outputs": [
    {
     "name": "stdout",
     "output_type": "stream",
     "text": [
      "[200.         222.05998248 243.0082049  262.92846013 281.90042921\n",
      " 300.        ]\n"
     ]
    }
   ],
   "source": [
    "print(sol)"
   ]
  },
  {
   "cell_type": "code",
   "execution_count": 24,
   "id": "3424fa41-f314-4124-b41f-ea489dd18759",
   "metadata": {},
   "outputs": [
    {
     "data": {
      "text/plain": [
       "[<matplotlib.lines.Line2D at 0x10b343b90>]"
      ]
     },
     "execution_count": 24,
     "metadata": {},
     "output_type": "execute_result"
    },
    {
     "data": {
      "image/png": "[encoded data removed]",
      "text/plain": [
       "<Figure size 640x480 with 1 Axes>"
      ]
     },
     "metadata": {},
     "output_type": "display_data"
    }
   ],
   "source": [
    "plt.plot(x, sol)"
   ]
  },
  {
   "cell_type": "code",
   "execution_count": null,
   "id": "0291577d-77a1-4b5b-ada6-75045c35a983",
   "metadata": {},
   "outputs": [],
   "source": []
  }
 ],
 "metadata": {
  "kernelspec": {
   "display_name": "Python 3 (ipykernel)",
   "language": "python",
   "name": "python3"
  },
  "language_info": {
   "codemirror_mode": {
    "name": "ipython",
    "version": 3
   },
   "file_extension": ".py",
   "mimetype": "text/x-python",
   "name": "python",
   "nbconvert_exporter": "python",
   "pygments_lexer": "ipython3",
   "version": "3.11.4"
  }
 },
 "nbformat": 4,
 "nbformat_minor": 5
}
